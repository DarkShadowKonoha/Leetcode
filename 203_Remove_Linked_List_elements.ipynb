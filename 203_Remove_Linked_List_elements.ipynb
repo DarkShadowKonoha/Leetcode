{
 "cells": [
  {
   "cell_type": "code",
   "execution_count": 3,
   "id": "7611a507-19aa-454f-a0a6-d45ff38427a9",
   "metadata": {},
   "outputs": [],
   "source": [
    "# O(n) time complexity\n",
    "class Solution:\n",
    "    def removeElements(self, head, val):\n",
    "        prev = None\n",
    "        curr = head\n",
    "        while curr is not None:\n",
    "            if(curr.val == val):\n",
    "                if(curr==head):\n",
    "                    head = head.next\n",
    "                    curr = head\n",
    "                else:\n",
    "                    nextNode = curr.next\n",
    "                    prev.next = nextNode\n",
    "                    curr = nextNode\n",
    "            else:\n",
    "                prev = curr\n",
    "                curr = curr.next\n",
    "        return head"
   ]
  }
 ],
 "metadata": {
  "kernelspec": {
   "display_name": "Python 3 (ipykernel)",
   "language": "python",
   "name": "python3"
  },
  "language_info": {
   "codemirror_mode": {
    "name": "ipython",
    "version": 3
   },
   "file_extension": ".py",
   "mimetype": "text/x-python",
   "name": "python",
   "nbconvert_exporter": "python",
   "pygments_lexer": "ipython3",
   "version": "3.9.7"
  }
 },
 "nbformat": 4,
 "nbformat_minor": 5
}
