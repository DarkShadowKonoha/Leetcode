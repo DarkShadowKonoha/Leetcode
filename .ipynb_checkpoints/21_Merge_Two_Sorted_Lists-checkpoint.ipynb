{
 "cells": [
  {
   "cell_type": "code",
   "execution_count": 1,
   "id": "1b613c20-2b57-4255-b29a-8d65778600fb",
   "metadata": {},
   "outputs": [],
   "source": [
    "# Definition for singly-linked list.\n",
    "class ListNode:\n",
    "    def __init__(self, val=0, next=None):\n",
    "        self.val = val\n",
    "        self.next = next\n",
    "class Solution:\n",
    "    def mergeTwoLists(self, head1, head2):\n",
    "        if head1 is None:\n",
    "            return head2\n",
    "        if head2 is None:\n",
    "            return head1\n",
    "\n",
    "        if head1.val < head2.val:\n",
    "            temp = head = ListNode(head1.val)\n",
    "            head1 = head1.next\n",
    "        else:\n",
    "            temp = head = ListNode(head2.val)\n",
    "            head2 = head2.next\n",
    "            \n",
    "        while head1 is not None and head2 is not None:\n",
    "            if head1.val < head2.val:\n",
    "                temp.next = ListNode(head1.val)\n",
    "                head1 = head1.next\n",
    "            else:\n",
    "                temp.next = ListNode(head2.val)\n",
    "                head2 = head2.next\n",
    "            temp = temp.next\n",
    "\n",
    "        while head1 is not None:\n",
    "            temp.next = ListNode(head1.val)\n",
    "            head1 = head1.next\n",
    "            temp = temp.next\n",
    "\n",
    "        while head2 is not None:\n",
    "            temp.next = ListNode(head2.val)\n",
    "            head2 = head2.next\n",
    "            temp = temp.next\n",
    "        \n",
    "        return head\n",
    "            "
   ]
  }
 ],
 "metadata": {
  "kernelspec": {
   "display_name": "Python 3 (ipykernel)",
   "language": "python",
   "name": "python3"
  },
  "language_info": {
   "codemirror_mode": {
    "name": "ipython",
    "version": 3
   },
   "file_extension": ".py",
   "mimetype": "text/x-python",
   "name": "python",
   "nbconvert_exporter": "python",
   "pygments_lexer": "ipython3",
   "version": "3.9.7"
  }
 },
 "nbformat": 4,
 "nbformat_minor": 5
}
