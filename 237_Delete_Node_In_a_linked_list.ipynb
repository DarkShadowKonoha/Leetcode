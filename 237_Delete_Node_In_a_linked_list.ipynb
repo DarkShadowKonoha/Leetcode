{
 "cells": [
  {
   "cell_type": "code",
   "execution_count": 1,
   "id": "178bd87c-3bcb-459b-85ef-96a70b31a961",
   "metadata": {},
   "outputs": [],
   "source": [
    "# Instead of deleting the node, we are just changing the values of \n",
    "# node with the next node\n",
    "# O(n) time complexity\n",
    "class Solution:\n",
    "    def deleteNode(self, node):\n",
    "        node.val = node.next.val\n",
    "        node.next = node.next.next"
   ]
  }
 ],
 "metadata": {
  "kernelspec": {
   "display_name": "Python 3 (ipykernel)",
   "language": "python",
   "name": "python3"
  },
  "language_info": {
   "codemirror_mode": {
    "name": "ipython",
    "version": 3
   },
   "file_extension": ".py",
   "mimetype": "text/x-python",
   "name": "python",
   "nbconvert_exporter": "python",
   "pygments_lexer": "ipython3",
   "version": "3.9.7"
  }
 },
 "nbformat": 4,
 "nbformat_minor": 5
}
