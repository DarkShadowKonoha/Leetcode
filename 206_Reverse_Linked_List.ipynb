{
 "cells": [
  {
   "cell_type": "code",
   "execution_count": 3,
   "id": "f3a24157-b925-4873-a9e0-56e0d66d42f8",
   "metadata": {},
   "outputs": [],
   "source": [
    "# O(n) time complexity\n",
    "class Solution:\n",
    "    def reverseList(self, head):\n",
    "        if head is None or head.next is None:\n",
    "            return head\n",
    "        \n",
    "        smallHead = self.reverseList(head.next)\n",
    "        \n",
    "        tail = head.next\n",
    "        tail.next = head\n",
    "        head.next = None\n",
    "        \n",
    "        return smallHead"
   ]
  },
  {
   "cell_type": "code",
   "execution_count": 4,
   "id": "da7c3f8e-a737-4229-9a05-7a259a461b56",
   "metadata": {},
   "outputs": [],
   "source": [
    "# O(n^2) time complexity\n",
    "class Solution:\n",
    "    def reverseList(self, head):\n",
    "        if head is None or head.next is None:\n",
    "            return head\n",
    "        \n",
    "        smallHead = self.reverseList(head.next)\n",
    "        curr = smallHead\n",
    "        \n",
    "        while curr.next is not None:\n",
    "            curr=curr.next\n",
    "        \n",
    "        curr.next = head\n",
    "        head.next = None\n",
    "        \n",
    "        return smallHead"
   ]
  },
  {
   "cell_type": "code",
   "execution_count": null,
   "id": "563127d0-eeda-4cef-8cc8-f8f15027b0c6",
   "metadata": {},
   "outputs": [],
   "source": []
  }
 ],
 "metadata": {
  "kernelspec": {
   "display_name": "Python 3 (ipykernel)",
   "language": "python",
   "name": "python3"
  },
  "language_info": {
   "codemirror_mode": {
    "name": "ipython",
    "version": 3
   },
   "file_extension": ".py",
   "mimetype": "text/x-python",
   "name": "python",
   "nbconvert_exporter": "python",
   "pygments_lexer": "ipython3",
   "version": "3.9.7"
  }
 },
 "nbformat": 4,
 "nbformat_minor": 5
}
